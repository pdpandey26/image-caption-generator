{
  "cells": [
    {
      "metadata": {
        "trusted": true,
        "_uuid": "6fc233a85c63b681b3e6baf843261bf7d11a68b7"
      },
      "cell_type": "code",
      "source": "!cat data/Flickr8k_text/readme.txt",
      "execution_count": null,
      "outputs": []
    },
    {
      "metadata": {
        "trusted": true,
        "_uuid": "79d387ef145d83e34b0e524587a7b241f969a573"
      },
      "cell_type": "code",
      "source": "import string",
      "execution_count": null,
      "outputs": []
    },
    {
      "metadata": {
        "trusted": true,
        "_uuid": "49ce281a451fa58d31faffed1dd36683387f00b6"
      },
      "cell_type": "code",
      "source": "# load doc into memory\ndef load_doc(filename):\n    # open the file as read only\n    file = open(filename, 'r')\n    # read all text\n    text = file.read()\n    # close the file\n    file.close()\n    return text",
      "execution_count": null,
      "outputs": []
    },
    {
      "metadata": {
        "trusted": true,
        "_uuid": "628c2d9e2291441eb020ad72140fbd36faf16148"
      },
      "cell_type": "code",
      "source": "# extract descriptions for images\ndef load_descriptions(doc):\n    mapping = dict()\n    # process lines\n    for line in doc.split('\\n'):\n        # split line by white space\n        tokens = line.split()\n        if len(line) < 2:\n            continue\n        # take the first token as the image id, the rest as the description\n        image_id, image_desc = tokens[0], tokens[1:]\n        # remove filename from image id\n        image_id = image_id.split('.')[0]\n        # convert description tokens back to string\n        image_desc = ' '.join(image_desc)\n        # create the list if needed\n        if image_id not in mapping:\n            mapping[image_id] = list()\n        # store description\n        mapping[image_id].append(image_desc)\n    return mapping",
      "execution_count": null,
      "outputs": []
    },
    {
      "metadata": {
        "trusted": true,
        "_uuid": "8c694cadc3f4c21dcb13de52f9f3b48b379ca140"
      },
      "cell_type": "code",
      "source": "def clean_descriptions(descriptions):\n    # prepare translation table for removing punctuation\n    table = str.maketrans('', '', string.punctuation)\n    for key, desc_list in descriptions.items():\n        for i in range(len(desc_list)):\n            desc = desc_list[i]\n            # tokenize\n            desc = desc.split()\n            # convert to lower case\n            desc = [word.lower() for word in desc]\n            # remove punctuation from each token\n            desc = [w.translate(table) for w in desc]\n            # remove hanging 's' and 'a'\n            desc = [word for word in desc if len(word)>1]\n            # remove tokens with numbers in them\n            desc = [word for word in desc if word.isalpha()]\n            # store as string\n            desc_list[i] =  ' '.join(desc)\n",
      "execution_count": null,
      "outputs": []
    },
    {
      "metadata": {
        "trusted": true,
        "_uuid": "1f9f8bd2ad66dc936a97a664d462320ba10195ca"
      },
      "cell_type": "code",
      "source": "# convert the loaded descriptions into a vocabulary of words\ndef to_vocabulary(descriptions):\n    # build a list of all description strings\n    all_desc = set()\n    for key in descriptions.keys():\n        [all_desc.update(d.split()) for d in descriptions[key]]\n    return all_desc\n",
      "execution_count": null,
      "outputs": []
    },
    {
      "metadata": {
        "trusted": true,
        "_uuid": "b95d8c6069422a1a7e76e62369e0e916d0996813"
      },
      "cell_type": "code",
      "source": "# save descriptions to file, one per line\ndef save_descriptions(descriptions, filename):\n    lines = list()\n    for key, desc_list in descriptions.items():\n        for desc in desc_list:\n            lines.append(key + ' ' + desc)\n    data = '\\n'.join(lines)\n    file = open(filename, 'w')\n    file.write(data)\n    file.close()",
      "execution_count": null,
      "outputs": []
    },
    {
      "metadata": {
        "trusted": true,
        "_uuid": "1b2f7b444c2fc55459bdbe52b6b4f385f5f4b30a"
      },
      "cell_type": "code",
      "source": "filename = '../input/8kflickrfeature/flickr8k_text/Flickr8k.token.txt'\n# load descriptions\ndoc = load_doc(filename)\n# parse descriptions\ndescriptions = load_descriptions(doc)\nprint('Loaded: %d ' % len(descriptions))\n# clean descriptions\nclean_descriptions(descriptions)\n# summarize vocabulary\nvocabulary = to_vocabulary(descriptions)\nprint('Vocabulary Size: %d' % len(vocabulary))\n# save to file\nsave_descriptions(descriptions, 'descriptions.txt')",
      "execution_count": null,
      "outputs": []
    }
  ],
  "metadata": {
    "kernelspec": {
      "display_name": "Python 3",
      "language": "python",
      "name": "python3"
    },
    "language_info": {
      "codemirror_mode": {
        "name": "ipython",
        "version": 2
      },
      "file_extension": ".py",
      "mimetype": "text/x-python",
      "name": "python",
      "nbconvert_exporter": "python",
      "pygments_lexer": "ipython2",
      "version": "2.7.15"
    }
  },
  "nbformat": 4,
  "nbformat_minor": 1
}