{
  "cells": [
    {
      "metadata": {
        "trusted": true,
        "_uuid": "2fbd5c7af8c7bc889b5c3101a6afa95007d76336"
      },
      "cell_type": "code",
      "source": "import os\nfrom pickle import dump\nfrom keras.applications.resnet50 import ResNet50\nfrom keras.preprocessing.image import load_img\nfrom keras.preprocessing.image import img_to_array\nfrom keras.applications.resnet50 import preprocess_input\nfrom keras.models import Model",
      "execution_count": null,
      "outputs": []
    },
    {
      "metadata": {
        "trusted": true,
        "_uuid": "fa7630592c513b3b9827215c74758b8402a1a54c"
      },
      "cell_type": "code",
      "source": "path, dirs, imgs = next(os.walk(\"../input/flickr8k_dataset/Flicker8k_Dataset/\"))\nimgs_count = len(imgs)\nprint(\"Number images: %d\" % imgs_count)",
      "execution_count": null,
      "outputs": []
    },
    {
      "metadata": {
        "trusted": true,
        "_uuid": "3175fff7d4f636df52c9477ea9e5d2e0b5b9e497"
      },
      "cell_type": "code",
      "source": "IMG_PATH=\"../input/flickr8k_dataset/Flicker8k_Dataset/\"",
      "execution_count": null,
      "outputs": []
    },
    {
      "metadata": {
        "trusted": true,
        "_uuid": "9b2383ac9d1c83474b55adb949a62c506f091578"
      },
      "cell_type": "code",
      "source": "from keras.preprocessing.image import load_img\nprint(\"Fist image: %s\" % imgs[0])\nimage = load_img(IMG_PATH + imgs[0])\nimage",
      "execution_count": null,
      "outputs": []
    },
    {
      "metadata": {
        "trusted": true,
        "_uuid": "2bef10e154026375cb8a44393b2d874f05adfa6d"
      },
      "cell_type": "code",
      "source": "from keras.preprocessing.image import img_to_array\nimage = img_to_array(image)\nimage.shape",
      "execution_count": null,
      "outputs": []
    },
    {
      "metadata": {
        "trusted": true,
        "_uuid": "b9c08236270bd353dfa1212a60971ced402b4ed7"
      },
      "cell_type": "code",
      "source": "from keras.applications.resnet50 import preprocess_input\n# reshape data into a single sample of an image\nimage = image.reshape((1, image.shape[0], image.shape[1], image.shape[2]))\n# prepare the image for the resnet50 model\nimage = preprocess_input(image)\nimage.shape",
      "execution_count": null,
      "outputs": []
    },
    {
      "metadata": {
        "trusted": true,
        "_uuid": "f5e0909bd23d770b19258ffcaf2f54f62003525f"
      },
      "cell_type": "code",
      "source": "image = load_img(IMG_PATH+imgs[0], target_size=(224, 224))\nimage",
      "execution_count": null,
      "outputs": []
    },
    {
      "metadata": {
        "trusted": true,
        "_uuid": "52aaf23a2a9eff75ad0f7c52344aca8959e17a15",
        "scrolled": false
      },
      "cell_type": "code",
      "source": "from os import listdir\n# extract features from each photo in the directory\ndef extract_features(directory):\n    # load the model\n    model = ResNet50()\n    # re-structure the model\n    model.layers.pop()\n    model = Model(inputs=model.inputs, outputs=model.layers[-1].output)\n    # summarize\n    print(model.summary())\n    # extract features from each photo\n    features = dict()\n    for name in listdir(directory):\n        # load an image from file\n        filename = directory + '/' + name\n        image = load_img(filename, target_size=(224, 224))\n        # convert the image pixels to a numpy array\n        image = img_to_array(image)\n        # reshape data for the model\n        image = image.reshape((1, image.shape[0], image.shape[1], image.shape[2]))\n        # prepare the image for the resnet50 model\n        image = preprocess_input(image)\n        # get features\n        feature = model.predict(image, verbose=0)\n        # get image id\n        image_id = name.split('.')[0]\n        # store feature\n        features[image_id] = feature\n        print('>%s' % name)\n    return features\n\n# extract features from all images\ndirectory = '../input/flickr8k_dataset/Flicker8k_Dataset'\nfeatures = extract_features(directory)\nprint('Extracted Features: %d' % len(features))\n# save to file\ndump(features, open('features.pkl', 'wb'))",
      "execution_count": null,
      "outputs": []
    },
    {
      "metadata": {
        "trusted": true,
        "_uuid": "7451d2466fd0dd62d2b37f850b9334260ebe6e72"
      },
      "cell_type": "code",
      "source": "",
      "execution_count": null,
      "outputs": []
    }
  ],
  "metadata": {
    "kernelspec": {
      "display_name": "Python 3",
      "language": "python",
      "name": "python3"
    },
    "language_info": {
      "name": "python",
      "version": "3.6.6",
      "mimetype": "text/x-python",
      "codemirror_mode": {
        "name": "ipython",
        "version": 3
      },
      "pygments_lexer": "ipython3",
      "nbconvert_exporter": "python",
      "file_extension": ".py"
    }
  },
  "nbformat": 4,
  "nbformat_minor": 1
}